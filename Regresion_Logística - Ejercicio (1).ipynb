{
 "cells": [
  {
   "cell_type": "code",
   "execution_count": 7,
   "id": "8216603c-a712-4a35-971f-b74ac406dc1f",
   "metadata": {},
   "outputs": [],
   "source": [
    "import seaborn as sns\n",
    "import pandas as pd\n",
    "import numpy as np\n",
    "import matplotlib.pyplot as plt"
   ]
  },
  {
   "cell_type": "markdown",
   "id": "80b809ed-bc04-4615-b157-aa5e1183e5d8",
   "metadata": {},
   "source": [
    "# Regresión Logística"
   ]
  },
  {
   "cell_type": "markdown",
   "id": "69282111-dab9-4f8c-8518-40e4e2e10dd7",
   "metadata": {},
   "source": [
    "## Titanic\n",
    "Vamos a crear un modelo que prediga la probabilidad de supervivencia de los pasajeros. Los datos están disponibles en:\n",
    "\n",
    "https://www.kaggle.com/c/titanic/data?select=train.csv"
   ]
  },
  {
   "cell_type": "markdown",
   "id": "dc905247-e525-4036-8205-de961aabf0c4",
   "metadata": {},
   "source": [
    "0. Importar data de training y testing. Agregarle a la tabla de testing la columna survived proveniente de la tabla gender_submission"
   ]
  },
  {
   "cell_type": "code",
   "execution_count": 11,
   "id": "a617b09c-dc05-4b49-9576-e722b5196a07",
   "metadata": {},
   "outputs": [],
   "source": [
    "resultados = pd.read_csv(\"titanic/gender_submission.csv\")\n",
    "train_data = pd.read_csv(\"titanic/train.csv\")\n",
    "test_data = pd.read_csv(\"titanic/test.csv\")"
   ]
  },
  {
   "cell_type": "code",
   "execution_count": 14,
   "id": "e42dfe79-8329-4f75-b52c-a02878e45705",
   "metadata": {},
   "outputs": [
    {
     "data": {
      "text/html": [
       "<div>\n",
       "<style scoped>\n",
       "    .dataframe tbody tr th:only-of-type {\n",
       "        vertical-align: middle;\n",
       "    }\n",
       "\n",
       "    .dataframe tbody tr th {\n",
       "        vertical-align: top;\n",
       "    }\n",
       "\n",
       "    .dataframe thead th {\n",
       "        text-align: right;\n",
       "    }\n",
       "</style>\n",
       "<table border=\"1\" class=\"dataframe\">\n",
       "  <thead>\n",
       "    <tr style=\"text-align: right;\">\n",
       "      <th></th>\n",
       "      <th>PassengerId</th>\n",
       "      <th>Pclass</th>\n",
       "      <th>Name</th>\n",
       "      <th>Sex</th>\n",
       "      <th>Age</th>\n",
       "      <th>SibSp</th>\n",
       "      <th>Parch</th>\n",
       "      <th>Ticket</th>\n",
       "      <th>Fare</th>\n",
       "      <th>Cabin</th>\n",
       "      <th>Embarked</th>\n",
       "    </tr>\n",
       "  </thead>\n",
       "  <tbody>\n",
       "    <tr>\n",
       "      <th>0</th>\n",
       "      <td>892</td>\n",
       "      <td>3</td>\n",
       "      <td>Kelly, Mr. James</td>\n",
       "      <td>male</td>\n",
       "      <td>34.5</td>\n",
       "      <td>0</td>\n",
       "      <td>0</td>\n",
       "      <td>330911</td>\n",
       "      <td>7.8292</td>\n",
       "      <td>NaN</td>\n",
       "      <td>Q</td>\n",
       "    </tr>\n",
       "    <tr>\n",
       "      <th>1</th>\n",
       "      <td>893</td>\n",
       "      <td>3</td>\n",
       "      <td>Wilkes, Mrs. James (Ellen Needs)</td>\n",
       "      <td>female</td>\n",
       "      <td>47.0</td>\n",
       "      <td>1</td>\n",
       "      <td>0</td>\n",
       "      <td>363272</td>\n",
       "      <td>7.0000</td>\n",
       "      <td>NaN</td>\n",
       "      <td>S</td>\n",
       "    </tr>\n",
       "    <tr>\n",
       "      <th>2</th>\n",
       "      <td>894</td>\n",
       "      <td>2</td>\n",
       "      <td>Myles, Mr. Thomas Francis</td>\n",
       "      <td>male</td>\n",
       "      <td>62.0</td>\n",
       "      <td>0</td>\n",
       "      <td>0</td>\n",
       "      <td>240276</td>\n",
       "      <td>9.6875</td>\n",
       "      <td>NaN</td>\n",
       "      <td>Q</td>\n",
       "    </tr>\n",
       "    <tr>\n",
       "      <th>3</th>\n",
       "      <td>895</td>\n",
       "      <td>3</td>\n",
       "      <td>Wirz, Mr. Albert</td>\n",
       "      <td>male</td>\n",
       "      <td>27.0</td>\n",
       "      <td>0</td>\n",
       "      <td>0</td>\n",
       "      <td>315154</td>\n",
       "      <td>8.6625</td>\n",
       "      <td>NaN</td>\n",
       "      <td>S</td>\n",
       "    </tr>\n",
       "    <tr>\n",
       "      <th>4</th>\n",
       "      <td>896</td>\n",
       "      <td>3</td>\n",
       "      <td>Hirvonen, Mrs. Alexander (Helga E Lindqvist)</td>\n",
       "      <td>female</td>\n",
       "      <td>22.0</td>\n",
       "      <td>1</td>\n",
       "      <td>1</td>\n",
       "      <td>3101298</td>\n",
       "      <td>12.2875</td>\n",
       "      <td>NaN</td>\n",
       "      <td>S</td>\n",
       "    </tr>\n",
       "  </tbody>\n",
       "</table>\n",
       "</div>"
      ],
      "text/plain": [
       "   PassengerId  Pclass                                          Name     Sex  \\\n",
       "0          892       3                              Kelly, Mr. James    male   \n",
       "1          893       3              Wilkes, Mrs. James (Ellen Needs)  female   \n",
       "2          894       2                     Myles, Mr. Thomas Francis    male   \n",
       "3          895       3                              Wirz, Mr. Albert    male   \n",
       "4          896       3  Hirvonen, Mrs. Alexander (Helga E Lindqvist)  female   \n",
       "\n",
       "    Age  SibSp  Parch   Ticket     Fare Cabin Embarked  \n",
       "0  34.5      0      0   330911   7.8292   NaN        Q  \n",
       "1  47.0      1      0   363272   7.0000   NaN        S  \n",
       "2  62.0      0      0   240276   9.6875   NaN        Q  \n",
       "3  27.0      0      0   315154   8.6625   NaN        S  \n",
       "4  22.0      1      1  3101298  12.2875   NaN        S  "
      ]
     },
     "execution_count": 14,
     "metadata": {},
     "output_type": "execute_result"
    }
   ],
   "source": [
    "test_data.head()"
   ]
  },
  {
   "cell_type": "code",
   "execution_count": 16,
   "id": "703429b7-a053-47d1-a9f6-5bfe4e54be31",
   "metadata": {},
   "outputs": [],
   "source": [
    "test_data = test_data.merge(\n",
    "    resultados, \n",
    "    how = \"left\",\n",
    "    on='PassengerId'\n",
    ")"
   ]
  },
  {
   "cell_type": "markdown",
   "id": "dd9d9e37-fb5d-4fbc-9d35-d874e4af7097",
   "metadata": {},
   "source": [
    "1. Buscar columnas con valores nulos y cantidad de nulos en cada una. Fijarse el porcentaje de los datos nulos que representan sobre el total."
   ]
  },
  {
   "cell_type": "code",
   "execution_count": 26,
   "id": "2bc2336c-1557-4b8a-8ff3-849bacee99e6",
   "metadata": {},
   "outputs": [
    {
     "data": {
      "text/plain": [
       "PassengerId     0.00\n",
       "Survived        0.00\n",
       "Pclass          0.00\n",
       "Name            0.00\n",
       "Sex             0.00\n",
       "Age            19.87\n",
       "SibSp           0.00\n",
       "Parch           0.00\n",
       "Ticket          0.00\n",
       "Fare            0.00\n",
       "Cabin          77.10\n",
       "Embarked        0.22\n",
       "dtype: float64"
      ]
     },
     "execution_count": 26,
     "metadata": {},
     "output_type": "execute_result"
    }
   ],
   "source": [
    "(train_data.isnull().sum() / train_data.shape[0] * 100).round(2)"
   ]
  },
  {
   "cell_type": "code",
   "execution_count": 28,
   "id": "ee8daad9-ad17-4028-b1ce-289b3a4096bd",
   "metadata": {},
   "outputs": [
    {
     "data": {
      "text/plain": [
       "PassengerId     0.00\n",
       "Pclass          0.00\n",
       "Name            0.00\n",
       "Sex             0.00\n",
       "Age            20.57\n",
       "SibSp           0.00\n",
       "Parch           0.00\n",
       "Ticket          0.00\n",
       "Fare            0.24\n",
       "Cabin          78.23\n",
       "Embarked        0.00\n",
       "Survived        0.00\n",
       "dtype: float64"
      ]
     },
     "execution_count": 28,
     "metadata": {},
     "output_type": "execute_result"
    }
   ],
   "source": [
    "(test_data.isnull().sum() / test_data.shape[0] * 100).round(2)"
   ]
  },
  {
   "cell_type": "markdown",
   "id": "8d3d80cf-8f51-4d95-ad81-cee2e6caad39",
   "metadata": {},
   "source": [
    "2. En base al resultado anterior. ¿Cuales columnas consideran que tienen sentido completar y cuales se deberían eliminar? Eliminar la que corresponda de la tabla de test y de train."
   ]
  },
  {
   "cell_type": "code",
   "execution_count": 32,
   "id": "dbbc0168-132c-48a0-bfbe-0e51ae5a61ae",
   "metadata": {},
   "outputs": [],
   "source": [
    "train_data.drop(\"Cabin\", axis = \"columns\", inplace = True)"
   ]
  },
  {
   "cell_type": "code",
   "execution_count": 30,
   "id": "31a3a76c-e1e0-45f1-9a84-f563ee2a37e0",
   "metadata": {},
   "outputs": [],
   "source": [
    "test_data.drop(\"Cabin\", axis = \"columns\", inplace = True)"
   ]
  },
  {
   "cell_type": "markdown",
   "id": "29588450-5c78-4dba-af9b-bc2a37c561c2",
   "metadata": {},
   "source": [
    "3. Completar valores nulos con el criterio que considres correcto en cada una de las columnas (que tengan sentido completar). Esto debe hacerse tanto en la tabla de training como la de testing (con el mismo criterio en ambas).\n",
    "\n",
    "   Verificar cómo se distribuyen los valores de cada columna con un gráfico previamente para tener más herramientas en la decisión"
   ]
  },
  {
   "cell_type": "code",
   "execution_count": 34,
   "id": "d320bb1a-0751-4371-99a1-553379f28958",
   "metadata": {},
   "outputs": [
    {
     "data": {
      "text/plain": [
       "<Axes: xlabel='Age', ylabel='Count'>"
      ]
     },
     "execution_count": 34,
     "metadata": {},
     "output_type": "execute_result"
    },
    {
     "data": {
      "image/png": "[encoded data removed]",
      "text/plain": [
       "<Figure size 640x480 with 1 Axes>"
      ]
     },
     "metadata": {},
     "output_type": "display_data"
    }
   ],
   "source": [
    "sns.histplot(data = train_data, x = \"Age\")"
   ]
  },
  {
   "cell_type": "code",
   "execution_count": 38,
   "id": "dda972fc-296a-4ab4-b53e-a64ae7bbb555",
   "metadata": {},
   "outputs": [
    {
     "data": {
      "text/plain": [
       "23.79929292929293"
      ]
     },
     "execution_count": 38,
     "metadata": {},
     "output_type": "execute_result"
    }
   ],
   "source": [
    "train_data.Age.sum() /train_data.shape[0]"
   ]
  },
  {
   "cell_type": "code",
   "execution_count": 40,
   "id": "ac01738d-6b21-4052-86fa-33086dd9c12e",
   "metadata": {},
   "outputs": [
    {
     "data": {
      "text/plain": [
       "28.0"
      ]
     },
     "execution_count": 40,
     "metadata": {},
     "output_type": "execute_result"
    }
   ],
   "source": [
    "train_data.Age.median()"
   ]
  },
  {
   "cell_type": "code",
   "execution_count": 42,
   "id": "4ad9acee-8a6b-4ae2-8c4e-8b7a787f3c77",
   "metadata": {},
   "outputs": [],
   "source": [
    "train_data[\"Age\"] = train_data[\"Age\"].fillna(train_data.Age.median())"
   ]
  },
  {
   "cell_type": "code",
   "execution_count": 44,
   "id": "637a7bb2-7522-4c4c-a59a-cb5f9e674a66",
   "metadata": {},
   "outputs": [
    {
     "data": {
      "text/plain": [
       "PassengerId    0.00\n",
       "Survived       0.00\n",
       "Pclass         0.00\n",
       "Name           0.00\n",
       "Sex            0.00\n",
       "Age            0.00\n",
       "SibSp          0.00\n",
       "Parch          0.00\n",
       "Ticket         0.00\n",
       "Fare           0.00\n",
       "Embarked       0.22\n",
       "dtype: float64"
      ]
     },
     "execution_count": 44,
     "metadata": {},
     "output_type": "execute_result"
    }
   ],
   "source": [
    "(train_data.isnull().sum() / train_data.shape[0] * 100).round(2)"
   ]
  },
  {
   "cell_type": "code",
   "execution_count": 46,
   "id": "000b4b5f-aeb6-4be2-82a3-faf9ee79487d",
   "metadata": {},
   "outputs": [],
   "source": [
    "test_data[\"Age\"] = test_data[\"Age\"].fillna(test_data.Age.median())"
   ]
  },
  {
   "cell_type": "code",
   "execution_count": 48,
   "id": "6cce7e89-bba4-4756-9757-d72ca6a5f28a",
   "metadata": {},
   "outputs": [
    {
     "data": {
      "text/plain": [
       "PassengerId    0.00\n",
       "Pclass         0.00\n",
       "Name           0.00\n",
       "Sex            0.00\n",
       "Age            0.00\n",
       "SibSp          0.00\n",
       "Parch          0.00\n",
       "Ticket         0.00\n",
       "Fare           0.24\n",
       "Embarked       0.00\n",
       "Survived       0.00\n",
       "dtype: float64"
      ]
     },
     "execution_count": 48,
     "metadata": {},
     "output_type": "execute_result"
    }
   ],
   "source": [
    "(test_data.isnull().sum() / test_data.shape[0] * 100).round(2)"
   ]
  },
  {
   "cell_type": "code",
   "execution_count": 50,
   "id": "5b405e32-e932-4da2-8c0d-a387625ffa9f",
   "metadata": {},
   "outputs": [
    {
     "data": {
      "text/plain": [
       "<Axes: xlabel='Embarked', ylabel='count'>"
      ]
     },
     "execution_count": 50,
     "metadata": {},
     "output_type": "execute_result"
    },
    {
     "data": {
      "image/png": "[encoded data removed]",
      "text/plain": [
       "<Figure size 640x480 with 1 Axes>"
      ]
     },
     "metadata": {},
     "output_type": "display_data"
    }
   ],
   "source": [
    "sns.countplot(data = train_data, x = \"Embarked\")"
   ]
  },
  {
   "cell_type": "code",
   "execution_count": 62,
   "id": "272693e9-9c7d-4872-82ec-6d5597282985",
   "metadata": {},
   "outputs": [],
   "source": [
    "moda = train_data.Embarked.mode()[0]\n",
    "train_data.Embarked = train_data.Embarked.fillna(moda)"
   ]
  },
  {
   "cell_type": "code",
   "execution_count": 64,
   "id": "8550b843-79a3-4fa1-961b-c4ab5418cab4",
   "metadata": {},
   "outputs": [
    {
     "data": {
      "text/plain": [
       "PassengerId    0\n",
       "Survived       0\n",
       "Pclass         0\n",
       "Name           0\n",
       "Sex            0\n",
       "Age            0\n",
       "SibSp          0\n",
       "Parch          0\n",
       "Ticket         0\n",
       "Fare           0\n",
       "Embarked       0\n",
       "dtype: int64"
      ]
     },
     "execution_count": 64,
     "metadata": {},
     "output_type": "execute_result"
    }
   ],
   "source": [
    "train_data.isnull().sum()"
   ]
  },
  {
   "cell_type": "code",
   "execution_count": 72,
   "id": "e1c841dd-b37d-4075-855d-b4df58b5038d",
   "metadata": {},
   "outputs": [
    {
     "data": {
      "text/plain": [
       "<Axes: xlabel='Fare', ylabel='Count'>"
      ]
     },
     "execution_count": 72,
     "metadata": {},
     "output_type": "execute_result"
    },
    {
     "data": {
      "image/png": "[encoded data removed]",
      "text/plain": [
       "<Figure size 640x480 with 1 Axes>"
      ]
     },
     "metadata": {},
     "output_type": "display_data"
    }
   ],
   "source": [
    "sns.histplot(data = test_data, x = \"Fare\", hue = \"Pclass\")"
   ]
  },
  {
   "cell_type": "code",
   "execution_count": 80,
   "id": "fcbbc5e1-bafc-430f-a3d0-84deed1386cf",
   "metadata": {},
   "outputs": [
    {
     "data": {
      "text/html": [
       "<div>\n",
       "<style scoped>\n",
       "    .dataframe tbody tr th:only-of-type {\n",
       "        vertical-align: middle;\n",
       "    }\n",
       "\n",
       "    .dataframe tbody tr th {\n",
       "        vertical-align: top;\n",
       "    }\n",
       "\n",
       "    .dataframe thead th {\n",
       "        text-align: right;\n",
       "    }\n",
       "</style>\n",
       "<table border=\"1\" class=\"dataframe\">\n",
       "  <thead>\n",
       "    <tr style=\"text-align: right;\">\n",
       "      <th></th>\n",
       "      <th>PassengerId</th>\n",
       "      <th>Pclass</th>\n",
       "      <th>Name</th>\n",
       "      <th>Sex</th>\n",
       "      <th>Age</th>\n",
       "      <th>SibSp</th>\n",
       "      <th>Parch</th>\n",
       "      <th>Ticket</th>\n",
       "      <th>Fare</th>\n",
       "      <th>Embarked</th>\n",
       "      <th>Survived</th>\n",
       "    </tr>\n",
       "  </thead>\n",
       "  <tbody>\n",
       "    <tr>\n",
       "      <th>152</th>\n",
       "      <td>1044</td>\n",
       "      <td>3</td>\n",
       "      <td>Storey, Mr. Thomas</td>\n",
       "      <td>male</td>\n",
       "      <td>60.5</td>\n",
       "      <td>0</td>\n",
       "      <td>0</td>\n",
       "      <td>3701</td>\n",
       "      <td>NaN</td>\n",
       "      <td>S</td>\n",
       "      <td>0</td>\n",
       "    </tr>\n",
       "  </tbody>\n",
       "</table>\n",
       "</div>"
      ],
      "text/plain": [
       "     PassengerId  Pclass                Name   Sex   Age  SibSp  Parch Ticket  \\\n",
       "152         1044       3  Storey, Mr. Thomas  male  60.5      0      0   3701   \n",
       "\n",
       "     Fare Embarked  Survived  \n",
       "152   NaN        S         0  "
      ]
     },
     "execution_count": 80,
     "metadata": {},
     "output_type": "execute_result"
    }
   ],
   "source": [
    "test_data.loc[test_data.Fare.isnull(), :]"
   ]
  },
  {
   "cell_type": "code",
   "execution_count": 82,
   "id": "5a87a464-436a-4e3b-8a44-a1486af46680",
   "metadata": {},
   "outputs": [],
   "source": [
    "mediana = test_data.loc[test_data.Pclass==3, \"Fare\"].median()\n",
    "test_data.Fare = test_data.Fare.fillna(mediana)"
   ]
  },
  {
   "cell_type": "code",
   "execution_count": 88,
   "id": "3dee0543-b359-401d-a9ec-a070084f58f7",
   "metadata": {},
   "outputs": [
    {
     "data": {
      "text/plain": [
       "PassengerId    0\n",
       "Pclass         0\n",
       "Name           0\n",
       "Sex            0\n",
       "Age            0\n",
       "SibSp          0\n",
       "Parch          0\n",
       "Ticket         0\n",
       "Fare           0\n",
       "Embarked       0\n",
       "Survived       0\n",
       "dtype: int64"
      ]
     },
     "execution_count": 88,
     "metadata": {},
     "output_type": "execute_result"
    }
   ],
   "source": [
    "test_data.isnull().sum()"
   ]
  },
  {
   "cell_type": "markdown",
   "id": "d3ee6bd0-64c0-4ac8-b85c-da016cf66099",
   "metadata": {},
   "source": [
    "4. Realizar análisis exploratorio. Graficar las personas que sobrevivieron por:\n",
    "    - Clase (Pclass)\n",
    "    - Sexo (Sex)\n",
    "    - Costo de boleto (Fare)"
   ]
  },
  {
   "cell_type": "code",
   "execution_count": null,
   "id": "cfa4bf5e-f642-45fa-abc9-847dd564c9e2",
   "metadata": {},
   "outputs": [],
   "source": [
    "sns.countplot(data=train_data, x=\"\")"
   ]
  },
  {
   "cell_type": "code",
   "execution_count": null,
   "id": "b039726b-1c7b-4b56-8c41-8ace3048c0ed",
   "metadata": {},
   "outputs": [],
   "source": []
  },
  {
   "cell_type": "code",
   "execution_count": null,
   "id": "f2127221-27d1-4338-ad09-72b66ab10ee3",
   "metadata": {},
   "outputs": [],
   "source": []
  },
  {
   "cell_type": "markdown",
   "id": "62a9d855-9078-45bc-ba03-632620d4b258",
   "metadata": {},
   "source": [
    "5. Verificar columnas del DataFrame e identificar sobre cúales se deberían generar variables dummies.\n",
    "   Generar columnas de dummies sobre \"Pclass\",\"Embarked\" y \"Sex\". Aplicar cambios en training y testing."
   ]
  },
  {
   "cell_type": "code",
   "execution_count": 90,
   "id": "e77eb639-2d69-470e-b39a-6c4d51d0896d",
   "metadata": {},
   "outputs": [
    {
     "data": {
      "text/html": [
       "<div>\n",
       "<style scoped>\n",
       "    .dataframe tbody tr th:only-of-type {\n",
       "        vertical-align: middle;\n",
       "    }\n",
       "\n",
       "    .dataframe tbody tr th {\n",
       "        vertical-align: top;\n",
       "    }\n",
       "\n",
       "    .dataframe thead th {\n",
       "        text-align: right;\n",
       "    }\n",
       "</style>\n",
       "<table border=\"1\" class=\"dataframe\">\n",
       "  <thead>\n",
       "    <tr style=\"text-align: right;\">\n",
       "      <th></th>\n",
       "      <th>PassengerId</th>\n",
       "      <th>Survived</th>\n",
       "      <th>Pclass</th>\n",
       "      <th>Name</th>\n",
       "      <th>Sex</th>\n",
       "      <th>Age</th>\n",
       "      <th>SibSp</th>\n",
       "      <th>Parch</th>\n",
       "      <th>Ticket</th>\n",
       "      <th>Fare</th>\n",
       "      <th>Embarked</th>\n",
       "    </tr>\n",
       "  </thead>\n",
       "  <tbody>\n",
       "    <tr>\n",
       "      <th>0</th>\n",
       "      <td>1</td>\n",
       "      <td>0</td>\n",
       "      <td>3</td>\n",
       "      <td>Braund, Mr. Owen Harris</td>\n",
       "      <td>male</td>\n",
       "      <td>22.0</td>\n",
       "      <td>1</td>\n",
       "      <td>0</td>\n",
       "      <td>A/5 21171</td>\n",
       "      <td>7.2500</td>\n",
       "      <td>S</td>\n",
       "    </tr>\n",
       "    <tr>\n",
       "      <th>1</th>\n",
       "      <td>2</td>\n",
       "      <td>1</td>\n",
       "      <td>1</td>\n",
       "      <td>Cumings, Mrs. John Bradley (Florence Briggs Th...</td>\n",
       "      <td>female</td>\n",
       "      <td>38.0</td>\n",
       "      <td>1</td>\n",
       "      <td>0</td>\n",
       "      <td>PC 17599</td>\n",
       "      <td>71.2833</td>\n",
       "      <td>C</td>\n",
       "    </tr>\n",
       "    <tr>\n",
       "      <th>2</th>\n",
       "      <td>3</td>\n",
       "      <td>1</td>\n",
       "      <td>3</td>\n",
       "      <td>Heikkinen, Miss. Laina</td>\n",
       "      <td>female</td>\n",
       "      <td>26.0</td>\n",
       "      <td>0</td>\n",
       "      <td>0</td>\n",
       "      <td>STON/O2. 3101282</td>\n",
       "      <td>7.9250</td>\n",
       "      <td>S</td>\n",
       "    </tr>\n",
       "    <tr>\n",
       "      <th>3</th>\n",
       "      <td>4</td>\n",
       "      <td>1</td>\n",
       "      <td>1</td>\n",
       "      <td>Futrelle, Mrs. Jacques Heath (Lily May Peel)</td>\n",
       "      <td>female</td>\n",
       "      <td>35.0</td>\n",
       "      <td>1</td>\n",
       "      <td>0</td>\n",
       "      <td>113803</td>\n",
       "      <td>53.1000</td>\n",
       "      <td>S</td>\n",
       "    </tr>\n",
       "    <tr>\n",
       "      <th>4</th>\n",
       "      <td>5</td>\n",
       "      <td>0</td>\n",
       "      <td>3</td>\n",
       "      <td>Allen, Mr. William Henry</td>\n",
       "      <td>male</td>\n",
       "      <td>35.0</td>\n",
       "      <td>0</td>\n",
       "      <td>0</td>\n",
       "      <td>373450</td>\n",
       "      <td>8.0500</td>\n",
       "      <td>S</td>\n",
       "    </tr>\n",
       "  </tbody>\n",
       "</table>\n",
       "</div>"
      ],
      "text/plain": [
       "   PassengerId  Survived  Pclass  \\\n",
       "0            1         0       3   \n",
       "1            2         1       1   \n",
       "2            3         1       3   \n",
       "3            4         1       1   \n",
       "4            5         0       3   \n",
       "\n",
       "                                                Name     Sex   Age  SibSp  \\\n",
       "0                            Braund, Mr. Owen Harris    male  22.0      1   \n",
       "1  Cumings, Mrs. John Bradley (Florence Briggs Th...  female  38.0      1   \n",
       "2                             Heikkinen, Miss. Laina  female  26.0      0   \n",
       "3       Futrelle, Mrs. Jacques Heath (Lily May Peel)  female  35.0      1   \n",
       "4                           Allen, Mr. William Henry    male  35.0      0   \n",
       "\n",
       "   Parch            Ticket     Fare Embarked  \n",
       "0      0         A/5 21171   7.2500        S  \n",
       "1      0          PC 17599  71.2833        C  \n",
       "2      0  STON/O2. 3101282   7.9250        S  \n",
       "3      0            113803  53.1000        S  \n",
       "4      0            373450   8.0500        S  "
      ]
     },
     "execution_count": 90,
     "metadata": {},
     "output_type": "execute_result"
    }
   ],
   "source": [
    "train_data.head()"
   ]
  },
  {
   "cell_type": "code",
   "execution_count": 92,
   "id": "540ef425-f53a-459e-9c51-ab0807b97ea9",
   "metadata": {},
   "outputs": [],
   "source": [
    "test_data = pd.get_dummies(\n",
    "    test_data, \n",
    "    columns = [\"Pclass\", \"Embarked\", \"Sex\"],\n",
    "    drop_first=True\n",
    ")\n",
    "train_data = pd.get_dummies(\n",
    "    train_data, \n",
    "    columns = [\"Pclass\", \"Embarked\", \"Sex\"],\n",
    "    drop_first=True\n",
    ")"
   ]
  },
  {
   "cell_type": "code",
   "execution_count": 94,
   "id": "813a6665-f27e-47d8-8db2-4233721e0885",
   "metadata": {},
   "outputs": [
    {
     "data": {
      "text/plain": [
       "Index(['PassengerId', 'Name', 'Age', 'SibSp', 'Parch', 'Ticket', 'Fare',\n",
       "       'Survived', 'Pclass_2', 'Pclass_3', 'Embarked_Q', 'Embarked_S',\n",
       "       'Sex_male'],\n",
       "      dtype='object')"
      ]
     },
     "execution_count": 94,
     "metadata": {},
     "output_type": "execute_result"
    }
   ],
   "source": [
    "test_data.columns"
   ]
  },
  {
   "cell_type": "code",
   "execution_count": 98,
   "id": "fc053c50-5db6-43b5-8309-ae31a17f61d4",
   "metadata": {},
   "outputs": [
    {
     "data": {
      "text/plain": [
       "Index(['PassengerId', 'Survived', 'Name', 'Age', 'SibSp', 'Parch', 'Ticket',\n",
       "       'Fare', 'Pclass_2', 'Pclass_3', 'Embarked_Q', 'Embarked_S', 'Sex_male'],\n",
       "      dtype='object')"
      ]
     },
     "execution_count": 98,
     "metadata": {},
     "output_type": "execute_result"
    }
   ],
   "source": [
    "train_data.columns"
   ]
  },
  {
   "cell_type": "markdown",
   "id": "7e472d05-0cbe-40cb-b8fa-9cbd3fe8b371",
   "metadata": {},
   "source": [
    "6. Eliminar columnas del dataset que considere que no suman al modelo. Hacerlo en testing y training."
   ]
  },
  {
   "cell_type": "code",
   "execution_count": 102,
   "id": "4e9f62c2-ee9f-4fe8-a622-2ee6236968aa",
   "metadata": {},
   "outputs": [],
   "source": [
    "test_data.drop([\"PassengerId\", \"Name\", \"Ticket\"], axis = \"columns\", inplace = True)"
   ]
  },
  {
   "cell_type": "code",
   "execution_count": 104,
   "id": "a3ffc69e-781b-4b29-a54f-a149712eee63",
   "metadata": {},
   "outputs": [],
   "source": [
    "train_data.drop([\"PassengerId\", \"Name\", \"Ticket\"], axis = \"columns\", inplace = True)"
   ]
  },
  {
   "cell_type": "code",
   "execution_count": 106,
   "id": "99c58388-55b6-470c-abb6-f5486e554c8a",
   "metadata": {},
   "outputs": [
    {
     "data": {
      "text/plain": [
       "Index(['Survived', 'Age', 'SibSp', 'Parch', 'Fare', 'Pclass_2', 'Pclass_3',\n",
       "       'Embarked_Q', 'Embarked_S', 'Sex_male'],\n",
       "      dtype='object')"
      ]
     },
     "execution_count": 106,
     "metadata": {},
     "output_type": "execute_result"
    }
   ],
   "source": [
    "train_data.columns"
   ]
  },
  {
   "cell_type": "code",
   "execution_count": 110,
   "id": "d6d81b44-fd54-415f-89f6-e6204df3e867",
   "metadata": {},
   "outputs": [
    {
     "data": {
      "text/plain": [
       "Index(['Age', 'SibSp', 'Parch', 'Fare', 'Survived', 'Pclass_2', 'Pclass_3',\n",
       "       'Embarked_Q', 'Embarked_S', 'Sex_male'],\n",
       "      dtype='object')"
      ]
     },
     "execution_count": 110,
     "metadata": {},
     "output_type": "execute_result"
    }
   ],
   "source": [
    "test_data.columns"
   ]
  },
  {
   "cell_type": "markdown",
   "id": "84153db7-4a10-423a-8fda-73cd616369f7",
   "metadata": {},
   "source": [
    "7. Agregar una columna llamada \"IsMinor\" que sea 1 en caso de tener 16 años o menos y 0 en caso contrario. Hacerlo para testing y training."
   ]
  },
  {
   "cell_type": "code",
   "execution_count": 114,
   "id": "c638100f-753c-46a6-a215-322791b8eabc",
   "metadata": {},
   "outputs": [],
   "source": [
    "train_data[\"IsMinor\"] = np.where(train_data[\"Age\"] <= 16, 1, 0)\n",
    "test_data[\"IsMinor\"] = np.where(test_data[\"Age\"] <= 16, 1, 0)"
   ]
  },
  {
   "cell_type": "markdown",
   "id": "cf42e214-90db-4a7d-8de3-fdbb6225c316",
   "metadata": {},
   "source": [
    "8. Ajustar modelo considerando todas las variables del dataset de training."
   ]
  },
  {
   "cell_type": "code",
   "execution_count": 119,
   "id": "3d768251-2539-4e1f-bd58-503ffe3377f5",
   "metadata": {},
   "outputs": [],
   "source": [
    "from sklearn.linear_model import LogisticRegression"
   ]
  },
  {
   "cell_type": "code",
   "execution_count": 123,
   "id": "667ae08c-7d45-496a-a7c9-07865932f4bd",
   "metadata": {},
   "outputs": [],
   "source": [
    "X_train = train_data.loc[:, train_data.columns != \"Survived\"]\n",
    "y_train = train_data.loc[:, \"Survived\"]"
   ]
  },
  {
   "cell_type": "code",
   "execution_count": 125,
   "id": "65cc5367-e97a-430a-977e-20a4cc96306b",
   "metadata": {},
   "outputs": [],
   "source": [
    "modelo = LogisticRegression(max_iter = 1000000)"
   ]
  },
  {
   "cell_type": "code",
   "execution_count": 127,
   "id": "4922f061-5441-4cc6-809d-a09953f7658c",
   "metadata": {},
   "outputs": [
    {
     "data": {
      "text/html": [
       "<style>#sk-container-id-1 {color: black;background-color: white;}#sk-container-id-1 pre{padding: 0;}#sk-container-id-1 div.sk-toggleable {background-color: white;}#sk-container-id-1 label.sk-toggleable__label {cursor: pointer;display: block;width: 100%;margin-bottom: 0;padding: 0.3em;box-sizing: border-box;text-align: center;}#sk-container-id-1 label.sk-toggleable__label-arrow:before {content: \"▸\";float: left;margin-right: 0.25em;color: #696969;}#sk-container-id-1 label.sk-toggleable__label-arrow:hover:before {color: black;}#sk-container-id-1 div.sk-estimator:hover label.sk-toggleable__label-arrow:before {color: black;}#sk-container-id-1 div.sk-toggleable__content {max-height: 0;max-width: 0;overflow: hidden;text-align: left;background-color: #f0f8ff;}#sk-container-id-1 div.sk-toggleable__content pre {margin: 0.2em;color: black;border-radius: 0.25em;background-color: #f0f8ff;}#sk-container-id-1 input.sk-toggleable__control:checked~div.sk-toggleable__content {max-height: 200px;max-width: 100%;overflow: auto;}#sk-container-id-1 input.sk-toggleable__control:checked~label.sk-toggleable__label-arrow:before {content: \"▾\";}#sk-container-id-1 div.sk-estimator input.sk-toggleable__control:checked~label.sk-toggleable__label {background-color: #d4ebff;}#sk-container-id-1 div.sk-label input.sk-toggleable__control:checked~label.sk-toggleable__label {background-color: #d4ebff;}#sk-container-id-1 input.sk-hidden--visually {border: 0;clip: rect(1px 1px 1px 1px);clip: rect(1px, 1px, 1px, 1px);height: 1px;margin: -1px;overflow: hidden;padding: 0;position: absolute;width: 1px;}#sk-container-id-1 div.sk-estimator {font-family: monospace;background-color: #f0f8ff;border: 1px dotted black;border-radius: 0.25em;box-sizing: border-box;margin-bottom: 0.5em;}#sk-container-id-1 div.sk-estimator:hover {background-color: #d4ebff;}#sk-container-id-1 div.sk-parallel-item::after {content: \"\";width: 100%;border-bottom: 1px solid gray;flex-grow: 1;}#sk-container-id-1 div.sk-label:hover label.sk-toggleable__label {background-color: #d4ebff;}#sk-container-id-1 div.sk-serial::before {content: \"\";position: absolute;border-left: 1px solid gray;box-sizing: border-box;top: 0;bottom: 0;left: 50%;z-index: 0;}#sk-container-id-1 div.sk-serial {display: flex;flex-direction: column;align-items: center;background-color: white;padding-right: 0.2em;padding-left: 0.2em;position: relative;}#sk-container-id-1 div.sk-item {position: relative;z-index: 1;}#sk-container-id-1 div.sk-parallel {display: flex;align-items: stretch;justify-content: center;background-color: white;position: relative;}#sk-container-id-1 div.sk-item::before, #sk-container-id-1 div.sk-parallel-item::before {content: \"\";position: absolute;border-left: 1px solid gray;box-sizing: border-box;top: 0;bottom: 0;left: 50%;z-index: -1;}#sk-container-id-1 div.sk-parallel-item {display: flex;flex-direction: column;z-index: 1;position: relative;background-color: white;}#sk-container-id-1 div.sk-parallel-item:first-child::after {align-self: flex-end;width: 50%;}#sk-container-id-1 div.sk-parallel-item:last-child::after {align-self: flex-start;width: 50%;}#sk-container-id-1 div.sk-parallel-item:only-child::after {width: 0;}#sk-container-id-1 div.sk-dashed-wrapped {border: 1px dashed gray;margin: 0 0.4em 0.5em 0.4em;box-sizing: border-box;padding-bottom: 0.4em;background-color: white;}#sk-container-id-1 div.sk-label label {font-family: monospace;font-weight: bold;display: inline-block;line-height: 1.2em;}#sk-container-id-1 div.sk-label-container {text-align: center;}#sk-container-id-1 div.sk-container {/* jupyter's `normalize.less` sets `[hidden] { display: none; }` but bootstrap.min.css set `[hidden] { display: none !important; }` so we also need the `!important` here to be able to override the default hidden behavior on the sphinx rendered scikit-learn.org. See: https://github.com/scikit-learn/scikit-learn/issues/21755 */display: inline-block !important;position: relative;}#sk-container-id-1 div.sk-text-repr-fallback {display: none;}</style><div id=\"sk-container-id-1\" class=\"sk-top-container\"><div class=\"sk-text-repr-fallback\"><pre>LogisticRegression(max_iter=1000000)</pre><b>In a Jupyter environment, please rerun this cell to show the HTML representation or trust the notebook. <br />On GitHub, the HTML representation is unable to render, please try loading this page with nbviewer.org.</b></div><div class=\"sk-container\" hidden><div class=\"sk-item\"><div class=\"sk-estimator sk-toggleable\"><input class=\"sk-toggleable__control sk-hidden--visually\" id=\"sk-estimator-id-1\" type=\"checkbox\" checked><label for=\"sk-estimator-id-1\" class=\"sk-toggleable__label sk-toggleable__label-arrow\">LogisticRegression</label><div class=\"sk-toggleable__content\"><pre>LogisticRegression(max_iter=1000000)</pre></div></div></div></div></div>"
      ],
      "text/plain": [
       "LogisticRegression(max_iter=1000000)"
      ]
     },
     "execution_count": 127,
     "metadata": {},
     "output_type": "execute_result"
    }
   ],
   "source": [
    "modelo.fit(X_train, y_train)"
   ]
  },
  {
   "cell_type": "markdown",
   "id": "a9dba403-7294-47b1-bf56-44f23da9491f",
   "metadata": {},
   "source": [
    "9. Validar el modelo con datos de testing, agregar dos columnas a test_data:\n",
    "    * predicción: valor 0 o 1\n",
    "    * probabilidad_prediccion: valor de la probabilidad devuelta por el modelo"
   ]
  },
  {
   "cell_type": "code",
   "execution_count": 129,
   "id": "562b38e1-da8e-43d2-b822-ce681460d387",
   "metadata": {},
   "outputs": [],
   "source": [
    "X_test = test_data.loc[:, test_data.columns != \"Survived\"]\n",
    "y_test = test_data.loc[:, \"Survived\"]"
   ]
  },
  {
   "cell_type": "code",
   "execution_count": 131,
   "id": "3e04bc66-2253-4bce-9609-fbc0fa5327ac",
   "metadata": {},
   "outputs": [],
   "source": [
    "y_pred = modelo.predict(X_test)\n",
    "y_pred_proba = modelo.predict_proba(X_test)[:, 1]"
   ]
  },
  {
   "cell_type": "code",
   "execution_count": 133,
   "id": "65d3093c-d4e0-47ac-a116-ac8165aed67b",
   "metadata": {},
   "outputs": [],
   "source": [
    "test_data[\"prediccion\"] = y_pred\n",
    "test_data[\"probabilidad_prediccion\"] = y_pred_proba"
   ]
  },
  {
   "cell_type": "code",
   "execution_count": 135,
   "id": "ccd10264-4918-4f59-a917-2cc73bd8d34c",
   "metadata": {},
   "outputs": [
    {
     "data": {
      "text/html": [
       "<div>\n",
       "<style scoped>\n",
       "    .dataframe tbody tr th:only-of-type {\n",
       "        vertical-align: middle;\n",
       "    }\n",
       "\n",
       "    .dataframe tbody tr th {\n",
       "        vertical-align: top;\n",
       "    }\n",
       "\n",
       "    .dataframe thead th {\n",
       "        text-align: right;\n",
       "    }\n",
       "</style>\n",
       "<table border=\"1\" class=\"dataframe\">\n",
       "  <thead>\n",
       "    <tr style=\"text-align: right;\">\n",
       "      <th></th>\n",
       "      <th>Age</th>\n",
       "      <th>SibSp</th>\n",
       "      <th>Parch</th>\n",
       "      <th>Fare</th>\n",
       "      <th>Survived</th>\n",
       "      <th>Pclass_2</th>\n",
       "      <th>Pclass_3</th>\n",
       "      <th>Embarked_Q</th>\n",
       "      <th>Embarked_S</th>\n",
       "      <th>Sex_male</th>\n",
       "      <th>IsMinor</th>\n",
       "      <th>prediccion</th>\n",
       "      <th>probabilidad_prediccion</th>\n",
       "    </tr>\n",
       "  </thead>\n",
       "  <tbody>\n",
       "    <tr>\n",
       "      <th>0</th>\n",
       "      <td>34.5</td>\n",
       "      <td>0</td>\n",
       "      <td>0</td>\n",
       "      <td>7.8292</td>\n",
       "      <td>0</td>\n",
       "      <td>False</td>\n",
       "      <td>True</td>\n",
       "      <td>True</td>\n",
       "      <td>False</td>\n",
       "      <td>True</td>\n",
       "      <td>0</td>\n",
       "      <td>0</td>\n",
       "      <td>0.116364</td>\n",
       "    </tr>\n",
       "    <tr>\n",
       "      <th>1</th>\n",
       "      <td>47.0</td>\n",
       "      <td>1</td>\n",
       "      <td>0</td>\n",
       "      <td>7.0000</td>\n",
       "      <td>1</td>\n",
       "      <td>False</td>\n",
       "      <td>True</td>\n",
       "      <td>False</td>\n",
       "      <td>True</td>\n",
       "      <td>False</td>\n",
       "      <td>0</td>\n",
       "      <td>0</td>\n",
       "      <td>0.383626</td>\n",
       "    </tr>\n",
       "    <tr>\n",
       "      <th>2</th>\n",
       "      <td>62.0</td>\n",
       "      <td>0</td>\n",
       "      <td>0</td>\n",
       "      <td>9.6875</td>\n",
       "      <td>0</td>\n",
       "      <td>True</td>\n",
       "      <td>False</td>\n",
       "      <td>True</td>\n",
       "      <td>False</td>\n",
       "      <td>True</td>\n",
       "      <td>0</td>\n",
       "      <td>0</td>\n",
       "      <td>0.183841</td>\n",
       "    </tr>\n",
       "    <tr>\n",
       "      <th>3</th>\n",
       "      <td>27.0</td>\n",
       "      <td>0</td>\n",
       "      <td>0</td>\n",
       "      <td>8.6625</td>\n",
       "      <td>0</td>\n",
       "      <td>False</td>\n",
       "      <td>True</td>\n",
       "      <td>False</td>\n",
       "      <td>True</td>\n",
       "      <td>True</td>\n",
       "      <td>0</td>\n",
       "      <td>0</td>\n",
       "      <td>0.096293</td>\n",
       "    </tr>\n",
       "    <tr>\n",
       "      <th>4</th>\n",
       "      <td>22.0</td>\n",
       "      <td>1</td>\n",
       "      <td>1</td>\n",
       "      <td>12.2875</td>\n",
       "      <td>1</td>\n",
       "      <td>False</td>\n",
       "      <td>True</td>\n",
       "      <td>False</td>\n",
       "      <td>True</td>\n",
       "      <td>False</td>\n",
       "      <td>0</td>\n",
       "      <td>0</td>\n",
       "      <td>0.491540</td>\n",
       "    </tr>\n",
       "  </tbody>\n",
       "</table>\n",
       "</div>"
      ],
      "text/plain": [
       "    Age  SibSp  Parch     Fare  Survived  Pclass_2  Pclass_3  Embarked_Q  \\\n",
       "0  34.5      0      0   7.8292         0     False      True        True   \n",
       "1  47.0      1      0   7.0000         1     False      True       False   \n",
       "2  62.0      0      0   9.6875         0      True     False        True   \n",
       "3  27.0      0      0   8.6625         0     False      True       False   \n",
       "4  22.0      1      1  12.2875         1     False      True       False   \n",
       "\n",
       "   Embarked_S  Sex_male  IsMinor  prediccion  probabilidad_prediccion  \n",
       "0       False      True        0           0                 0.116364  \n",
       "1        True     False        0           0                 0.383626  \n",
       "2       False      True        0           0                 0.183841  \n",
       "3        True      True        0           0                 0.096293  \n",
       "4        True     False        0           0                 0.491540  "
      ]
     },
     "execution_count": 135,
     "metadata": {},
     "output_type": "execute_result"
    }
   ],
   "source": [
    "test_data.head()"
   ]
  },
  {
   "cell_type": "markdown",
   "id": "bd025fd1-e1d5-47df-a9cb-e4992af54672",
   "metadata": {},
   "source": [
    "10. Calcular matriz de confusión"
   ]
  },
  {
   "cell_type": "code",
   "execution_count": 140,
   "id": "c16cda76-6460-4ed3-9426-95b5e559968f",
   "metadata": {},
   "outputs": [],
   "source": [
    "from sklearn.metrics import confusion_matrix, roc_auc_score, roc_curve"
   ]
  },
  {
   "cell_type": "code",
   "execution_count": 142,
   "id": "0a4830cb-e05a-4f54-8e5c-593597220bf4",
   "metadata": {},
   "outputs": [
    {
     "data": {
      "text/html": [
       "<div>\n",
       "<style scoped>\n",
       "    .dataframe tbody tr th:only-of-type {\n",
       "        vertical-align: middle;\n",
       "    }\n",
       "\n",
       "    .dataframe tbody tr th {\n",
       "        vertical-align: top;\n",
       "    }\n",
       "\n",
       "    .dataframe thead th {\n",
       "        text-align: right;\n",
       "    }\n",
       "</style>\n",
       "<table border=\"1\" class=\"dataframe\">\n",
       "  <thead>\n",
       "    <tr style=\"text-align: right;\">\n",
       "      <th></th>\n",
       "      <th>real</th>\n",
       "      <th>pred</th>\n",
       "    </tr>\n",
       "  </thead>\n",
       "  <tbody>\n",
       "    <tr>\n",
       "      <th>0</th>\n",
       "      <td>0</td>\n",
       "      <td>0</td>\n",
       "    </tr>\n",
       "    <tr>\n",
       "      <th>1</th>\n",
       "      <td>1</td>\n",
       "      <td>0</td>\n",
       "    </tr>\n",
       "    <tr>\n",
       "      <th>2</th>\n",
       "      <td>0</td>\n",
       "      <td>0</td>\n",
       "    </tr>\n",
       "    <tr>\n",
       "      <th>3</th>\n",
       "      <td>0</td>\n",
       "      <td>0</td>\n",
       "    </tr>\n",
       "    <tr>\n",
       "      <th>4</th>\n",
       "      <td>1</td>\n",
       "      <td>0</td>\n",
       "    </tr>\n",
       "  </tbody>\n",
       "</table>\n",
       "</div>"
      ],
      "text/plain": [
       "   real  pred\n",
       "0     0     0\n",
       "1     1     0\n",
       "2     0     0\n",
       "3     0     0\n",
       "4     1     0"
      ]
     },
     "execution_count": 142,
     "metadata": {},
     "output_type": "execute_result"
    }
   ],
   "source": [
    "tabla = pd.DataFrame(\n",
    "    {\n",
    "        \"real\": y_test, \n",
    "        \"pred\": y_pred\n",
    "    }\n",
    ")\n",
    "tabla.head()"
   ]
  },
  {
   "cell_type": "code",
   "execution_count": 146,
   "id": "30dcf05f-d049-4f7e-ab7c-30d2f44eeb02",
   "metadata": {},
   "outputs": [
    {
     "data": {
      "text/html": [
       "<div>\n",
       "<style scoped>\n",
       "    .dataframe tbody tr th:only-of-type {\n",
       "        vertical-align: middle;\n",
       "    }\n",
       "\n",
       "    .dataframe tbody tr th {\n",
       "        vertical-align: top;\n",
       "    }\n",
       "\n",
       "    .dataframe thead th {\n",
       "        text-align: right;\n",
       "    }\n",
       "</style>\n",
       "<table border=\"1\" class=\"dataframe\">\n",
       "  <thead>\n",
       "    <tr style=\"text-align: right;\">\n",
       "      <th></th>\n",
       "      <th>real</th>\n",
       "      <th>pred</th>\n",
       "      <th>0</th>\n",
       "    </tr>\n",
       "  </thead>\n",
       "  <tbody>\n",
       "    <tr>\n",
       "      <th>0</th>\n",
       "      <td>0</td>\n",
       "      <td>0</td>\n",
       "      <td>253</td>\n",
       "    </tr>\n",
       "    <tr>\n",
       "      <th>1</th>\n",
       "      <td>0</td>\n",
       "      <td>1</td>\n",
       "      <td>13</td>\n",
       "    </tr>\n",
       "    <tr>\n",
       "      <th>2</th>\n",
       "      <td>1</td>\n",
       "      <td>0</td>\n",
       "      <td>16</td>\n",
       "    </tr>\n",
       "    <tr>\n",
       "      <th>3</th>\n",
       "      <td>1</td>\n",
       "      <td>1</td>\n",
       "      <td>136</td>\n",
       "    </tr>\n",
       "  </tbody>\n",
       "</table>\n",
       "</div>"
      ],
      "text/plain": [
       "   real  pred    0\n",
       "0     0     0  253\n",
       "1     0     1   13\n",
       "2     1     0   16\n",
       "3     1     1  136"
      ]
     },
     "execution_count": 146,
     "metadata": {},
     "output_type": "execute_result"
    }
   ],
   "source": [
    "tabla.groupby([\"real\", \"pred\"]).size().reset_index()"
   ]
  },
  {
   "cell_type": "code",
   "execution_count": 148,
   "id": "b280fe33-b109-443c-98d2-e916a6a127e4",
   "metadata": {},
   "outputs": [
    {
     "data": {
      "text/plain": [
       "array([[253,  13],\n",
       "       [ 16, 136]])"
      ]
     },
     "execution_count": 148,
     "metadata": {},
     "output_type": "execute_result"
    }
   ],
   "source": [
    "matriz_confusion = confusion_matrix(y_test, y_pred)\n",
    "matriz_confusion"
   ]
  },
  {
   "cell_type": "code",
   "execution_count": 153,
   "id": "707efed1-1117-4f89-b93b-ae91d7ac2271",
   "metadata": {},
   "outputs": [],
   "source": [
    "TN = matriz_confusion[0,0]\n",
    "FP = matriz_confusion[0,1]\n",
    "FN = matriz_confusion[1,0]\n",
    "TP = matriz_confusion[1,1]"
   ]
  },
  {
   "cell_type": "markdown",
   "id": "b0647506-fa6e-489b-b19f-b06aac31c2e3",
   "metadata": {},
   "source": [
    "11. Calcular Accuracy"
   ]
  },
  {
   "cell_type": "code",
   "execution_count": 156,
   "id": "12b5c024-aa46-47a2-a02c-06b71b13aa9f",
   "metadata": {},
   "outputs": [
    {
     "data": {
      "text/plain": [
       "0.930622009569378"
      ]
     },
     "execution_count": 156,
     "metadata": {},
     "output_type": "execute_result"
    }
   ],
   "source": [
    "(TN + TP) / (TN + TP +FN + FP)"
   ]
  },
  {
   "cell_type": "markdown",
   "id": "9de944c0-8c5c-4499-a612-c469202705c6",
   "metadata": {},
   "source": [
    "12. Calcular sensibilidad"
   ]
  },
  {
   "cell_type": "code",
   "execution_count": 160,
   "id": "23d46e37-0c7e-47d5-9cfe-d89d9cb8ff01",
   "metadata": {},
   "outputs": [
    {
     "data": {
      "text/plain": [
       "0.8947368421052632"
      ]
     },
     "execution_count": 160,
     "metadata": {},
     "output_type": "execute_result"
    }
   ],
   "source": [
    "TP / (TP + FN)"
   ]
  },
  {
   "cell_type": "markdown",
   "id": "8bd49b7a-8622-40a8-a859-36a2892bfaed",
   "metadata": {},
   "source": [
    "13. Calcular especificidad"
   ]
  },
  {
   "cell_type": "code",
   "execution_count": 158,
   "id": "4489c898-321d-485e-aa23-77f0329e5ce1",
   "metadata": {},
   "outputs": [
    {
     "data": {
      "text/plain": [
       "0.9511278195488722"
      ]
     },
     "execution_count": 158,
     "metadata": {},
     "output_type": "execute_result"
    }
   ],
   "source": [
    "TN / (TN + FP)"
   ]
  },
  {
   "cell_type": "markdown",
   "id": "26c35c86-fe11-48c8-bb86-a3c21da3fe99",
   "metadata": {},
   "source": [
    "14. Graficar curva de ROC"
   ]
  },
  {
   "cell_type": "code",
   "execution_count": 162,
   "id": "8d1acb6b-bf41-4e07-b793-f323fb6d757a",
   "metadata": {},
   "outputs": [],
   "source": [
    "especificidad_inv, sensibilidad, umbral = roc_curve(y_test, y_pred_proba)"
   ]
  },
  {
   "cell_type": "code",
   "execution_count": 168,
   "id": "83d4fb22-a690-45ec-a65a-f21954883932",
   "metadata": {},
   "outputs": [
    {
     "data": {
      "text/plain": [
       "<Axes: >"
      ]
     },
     "execution_count": 168,
     "metadata": {},
     "output_type": "execute_result"
    },
    {
     "data": {
      "image/png": "[encoded data removed]",
      "text/plain": [
       "<Figure size 640x480 with 1 Axes>"
      ]
     },
     "metadata": {},
     "output_type": "display_data"
    }
   ],
   "source": [
    "recta_x = [i for i in np.arange(0,1,0.01)]\n",
    "sns.scatterplot(x = especificidad_inv, y = sensibilidad)\n",
    "sns.lineplot(x=recta_x, y = recta_x, color=\"r\", ls = \"--\")"
   ]
  },
  {
   "cell_type": "markdown",
   "id": "01f5ec9f-8abc-40bf-a64b-0f3121a3ef0a",
   "metadata": {},
   "source": [
    "15. Calcular valor de área bajo la curva de ROC"
   ]
  },
  {
   "cell_type": "code",
   "execution_count": 170,
   "id": "df5af997-62ea-4584-9a61-3e163047a727",
   "metadata": {},
   "outputs": [
    {
     "data": {
      "text/plain": [
       "0.9763553620894343"
      ]
     },
     "execution_count": 170,
     "metadata": {},
     "output_type": "execute_result"
    }
   ],
   "source": [
    "roc_auc_score(y_test, y_pred_proba)"
   ]
  },
  {
   "cell_type": "code",
   "execution_count": null,
   "id": "ad339c9a-8ce1-48ca-a295-41e51a42680c",
   "metadata": {},
   "outputs": [],
   "source": [
    "range(len(sorted(y_pred_proba)))"
   ]
  },
  {
   "cell_type": "code",
   "execution_count": 172,
   "id": "ceb765cf-e590-49e9-a903-1dd84e9ccf30",
   "metadata": {
    "collapsed": true,
    "jupyter": {
     "outputs_hidden": true
    }
   },
   "outputs": [
    {
     "data": {
      "text/plain": [
       "[0.015953286408779365,\n",
       " 0.021933351689463934,\n",
       " 0.02376869184590302,\n",
       " 0.02609465596810516,\n",
       " 0.02815059627856969,\n",
       " 0.030876644918506963,\n",
       " 0.041865690218723654,\n",
       " 0.04675566713026166,\n",
       " 0.046879636978939467,\n",
       " 0.05319479102787005,\n",
       " 0.056915812524176934,\n",
       " 0.056933756353364944,\n",
       " 0.058473594569444676,\n",
       " 0.05911538630932884,\n",
       " 0.05967463079608183,\n",
       " 0.06280490316678784,\n",
       " 0.06841830315545205,\n",
       " 0.06955152169956788,\n",
       " 0.0714060356837378,\n",
       " 0.07209092762106227,\n",
       " 0.07209092762106227,\n",
       " 0.07412701204065235,\n",
       " 0.07458428083855843,\n",
       " 0.07515558397930885,\n",
       " 0.07515996079672986,\n",
       " 0.07632643386224373,\n",
       " 0.07926819523350997,\n",
       " 0.0799229413286032,\n",
       " 0.08047709365170722,\n",
       " 0.08115933005759651,\n",
       " 0.084654179746085,\n",
       " 0.0847144650776822,\n",
       " 0.08606504669061515,\n",
       " 0.08637265274884592,\n",
       " 0.08643404630831272,\n",
       " 0.0865203399317993,\n",
       " 0.08902169786050651,\n",
       " 0.09117392571572422,\n",
       " 0.09208364243656751,\n",
       " 0.09210715697588498,\n",
       " 0.09382621776116254,\n",
       " 0.0940967451851943,\n",
       " 0.09501014242910208,\n",
       " 0.09572000876300678,\n",
       " 0.09573720112677274,\n",
       " 0.09580599819464422,\n",
       " 0.09590927667072477,\n",
       " 0.09590927667072477,\n",
       " 0.09590927667072477,\n",
       " 0.09591788770127485,\n",
       " 0.09598680082848847,\n",
       " 0.09601410265700318,\n",
       " 0.0960227220995552,\n",
       " 0.09602558390739936,\n",
       " 0.09602844579147467,\n",
       " 0.09602844579147467,\n",
       " 0.09602844579147467,\n",
       " 0.09602844579147467,\n",
       " 0.09608162863606176,\n",
       " 0.09608162863606176,\n",
       " 0.09608162863606176,\n",
       " 0.09608162863606176,\n",
       " 0.09608162863606176,\n",
       " 0.09608162863606176,\n",
       " 0.09629313698150584,\n",
       " 0.09629313698150584,\n",
       " 0.09631042132174157,\n",
       " 0.09633197487936544,\n",
       " 0.09695599779877123,\n",
       " 0.09788472177449961,\n",
       " 0.09800723993121961,\n",
       " 0.09800723993121961,\n",
       " 0.09804966640926074,\n",
       " 0.09911362099646173,\n",
       " 0.09978007830130388,\n",
       " 0.09978154116618103,\n",
       " 0.10002079627079083,\n",
       " 0.100072940466381,\n",
       " 0.10010871862848243,\n",
       " 0.10011916799606883,\n",
       " 0.10068422761837045,\n",
       " 0.10208014153858534,\n",
       " 0.10216209001282167,\n",
       " 0.1021909497458983,\n",
       " 0.10226232842953006,\n",
       " 0.1024858999748336,\n",
       " 0.10272820958535218,\n",
       " 0.10402879342245677,\n",
       " 0.10430523571296246,\n",
       " 0.10647228637750364,\n",
       " 0.10648014682240983,\n",
       " 0.1065762518309039,\n",
       " 0.10868690050343778,\n",
       " 0.1086949045560473,\n",
       " 0.10871738023961763,\n",
       " 0.10873339280411763,\n",
       " 0.10879276513411254,\n",
       " 0.10937201730319793,\n",
       " 0.11097289242787599,\n",
       " 0.11100064081508,\n",
       " 0.11326523497530436,\n",
       " 0.11414262474289347,\n",
       " 0.11497046049707552,\n",
       " 0.11556463968911936,\n",
       " 0.11593562277138349,\n",
       " 0.11636375321515664,\n",
       " 0.11800367330679724,\n",
       " 0.11832100834389576,\n",
       " 0.1200393720972172,\n",
       " 0.12488446600646382,\n",
       " 0.1277427239405809,\n",
       " 0.13376556847266277,\n",
       " 0.1353304290486992,\n",
       " 0.1353304290486992,\n",
       " 0.1353304290486992,\n",
       " 0.1353304290486992,\n",
       " 0.1353304290486992,\n",
       " 0.1353304290486992,\n",
       " 0.1353304290486992,\n",
       " 0.1353304290486992,\n",
       " 0.1353304290486992,\n",
       " 0.13539049308166562,\n",
       " 0.13616901079231755,\n",
       " 0.13653737453935874,\n",
       " 0.13653737453935874,\n",
       " 0.13653737453935874,\n",
       " 0.1365393413931666,\n",
       " 0.1365393413931666,\n",
       " 0.1365393413931666,\n",
       " 0.1365393413931666,\n",
       " 0.1368518116166208,\n",
       " 0.13790289158015695,\n",
       " 0.1381136293802878,\n",
       " 0.14207040576377364,\n",
       " 0.14339059459972334,\n",
       " 0.14802863301048336,\n",
       " 0.14924364052170813,\n",
       " 0.15054627186571673,\n",
       " 0.15071405293535206,\n",
       " 0.15235878988602666,\n",
       " 0.15239511277298698,\n",
       " 0.15369060925965425,\n",
       " 0.1557252350621693,\n",
       " 0.15663498187668085,\n",
       " 0.15671510411555017,\n",
       " 0.15921114111577225,\n",
       " 0.16134473533534832,\n",
       " 0.16282658980032,\n",
       " 0.16560960060657268,\n",
       " 0.17468498959719006,\n",
       " 0.17480104502965949,\n",
       " 0.17808203701899225,\n",
       " 0.18051248344792392,\n",
       " 0.1838405361212055,\n",
       " 0.18549324158825856,\n",
       " 0.18894237035019104,\n",
       " 0.18996132249800626,\n",
       " 0.19206691318824506,\n",
       " 0.1937430214700907,\n",
       " 0.19716231230172804,\n",
       " 0.1993280800100458,\n",
       " 0.20083927506085358,\n",
       " 0.20427364021552422,\n",
       " 0.20456733821858414,\n",
       " 0.20651320233799642,\n",
       " 0.2125393113053871,\n",
       " 0.2199914030852981,\n",
       " 0.22300056148980402,\n",
       " 0.2230189734712732,\n",
       " 0.22953068170569912,\n",
       " 0.2349142645801406,\n",
       " 0.23493615614946728,\n",
       " 0.23623303775547275,\n",
       " 0.23659156651563,\n",
       " 0.2446582986286722,\n",
       " 0.2446582986286722,\n",
       " 0.2514108597740397,\n",
       " 0.25757712132477245,\n",
       " 0.26210909567689544,\n",
       " 0.26210909567689544,\n",
       " 0.26210909567689544,\n",
       " 0.2631745447017575,\n",
       " 0.26324562459932804,\n",
       " 0.2646579735029611,\n",
       " 0.2646579735029611,\n",
       " 0.26682009511145044,\n",
       " 0.2691716617316368,\n",
       " 0.27152228006929185,\n",
       " 0.27373367390785586,\n",
       " 0.2743894106456548,\n",
       " 0.2747940965066678,\n",
       " 0.2762589740653247,\n",
       " 0.27834355704467945,\n",
       " 0.28051126883944094,\n",
       " 0.2809513563587333,\n",
       " 0.2812069992366636,\n",
       " 0.2822697128301665,\n",
       " 0.2838075104081858,\n",
       " 0.28502014085763877,\n",
       " 0.2852360744549784,\n",
       " 0.2899623282419672,\n",
       " 0.29245537142079986,\n",
       " 0.29327124458805487,\n",
       " 0.29691660554387317,\n",
       " 0.2972514989937296,\n",
       " 0.29743549706803873,\n",
       " 0.2977430577117486,\n",
       " 0.29794022154216915,\n",
       " 0.3022784044016847,\n",
       " 0.3045383453573989,\n",
       " 0.3060962474977968,\n",
       " 0.3065802998347386,\n",
       " 0.3170705377775156,\n",
       " 0.32565909520417646,\n",
       " 0.3262506364606447,\n",
       " 0.3317314067153752,\n",
       " 0.3364618190637668,\n",
       " 0.33742384127553476,\n",
       " 0.33786789526872674,\n",
       " 0.33786789526872674,\n",
       " 0.34308846654737724,\n",
       " 0.34309965709829426,\n",
       " 0.3435773426261579,\n",
       " 0.3465923250426852,\n",
       " 0.34750249877458067,\n",
       " 0.35201919249889174,\n",
       " 0.3521836656281302,\n",
       " 0.354747038071877,\n",
       " 0.3572988604355528,\n",
       " 0.37148329730495516,\n",
       " 0.37323857500901236,\n",
       " 0.3754867698550057,\n",
       " 0.3792495537228195,\n",
       " 0.38362640811698123,\n",
       " 0.3837773552106027,\n",
       " 0.38575369043390645,\n",
       " 0.3883735398437748,\n",
       " 0.3935895124280277,\n",
       " 0.3964443136814689,\n",
       " 0.3984236312230157,\n",
       " 0.3990352302660508,\n",
       " 0.4013573606578441,\n",
       " 0.40175035731731756,\n",
       " 0.41601697714785035,\n",
       " 0.418475069338841,\n",
       " 0.4184905664828465,\n",
       " 0.4190223163154327,\n",
       " 0.4190223163154327,\n",
       " 0.42050018771307357,\n",
       " 0.4217394134759529,\n",
       " 0.4316918715962705,\n",
       " 0.4317018799320745,\n",
       " 0.4344692172727216,\n",
       " 0.434820775347965,\n",
       " 0.43643833584260255,\n",
       " 0.4436792184504163,\n",
       " 0.45248685719952014,\n",
       " 0.4539077712196541,\n",
       " 0.4573026349960392,\n",
       " 0.4612072470239988,\n",
       " 0.4674109295286613,\n",
       " 0.4710877700486935,\n",
       " 0.4781547894691186,\n",
       " 0.4879863045382941,\n",
       " 0.4915401211258744,\n",
       " 0.49638023968035283,\n",
       " 0.4973249433642677,\n",
       " 0.4977040408142006,\n",
       " 0.49771320421057913,\n",
       " 0.5066453598612615,\n",
       " 0.5078542146451552,\n",
       " 0.5109297449247964,\n",
       " 0.5139455519124115,\n",
       " 0.5148643348906408,\n",
       " 0.5176094309097435,\n",
       " 0.5265904929932997,\n",
       " 0.5291697911007599,\n",
       " 0.5293734219510507,\n",
       " 0.5318294364460747,\n",
       " 0.5324361249740205,\n",
       " 0.5481177072598521,\n",
       " 0.5517811974697349,\n",
       " 0.5814552587943247,\n",
       " 0.5869140110647024,\n",
       " 0.588397673072642,\n",
       " 0.5927590609331904,\n",
       " 0.5927590609331904,\n",
       " 0.5928189882331879,\n",
       " 0.5989287010054211,\n",
       " 0.6008591772107957,\n",
       " 0.6028258261331754,\n",
       " 0.6040160262109674,\n",
       " 0.6105317486540637,\n",
       " 0.6142414641557731,\n",
       " 0.6146445045238438,\n",
       " 0.6148287023790169,\n",
       " 0.6154046960113347,\n",
       " 0.617907359124131,\n",
       " 0.6200362838040153,\n",
       " 0.6211302311996355,\n",
       " 0.6262645590849025,\n",
       " 0.6268762382041527,\n",
       " 0.6298596179269548,\n",
       " 0.6309005621704393,\n",
       " 0.6405497199932879,\n",
       " 0.6415053624146771,\n",
       " 0.6417565357579603,\n",
       " 0.649397610255172,\n",
       " 0.664062470584734,\n",
       " 0.6659477539476318,\n",
       " 0.6665476591673816,\n",
       " 0.6818268334873584,\n",
       " 0.6818376048040935,\n",
       " 0.6818519949797471,\n",
       " 0.6818519949797471,\n",
       " 0.6818519949797471,\n",
       " 0.6818519949797471,\n",
       " 0.6818519949797471,\n",
       " 0.6818771554107259,\n",
       " 0.6819633132271036,\n",
       " 0.6819633132271036,\n",
       " 0.688492292157548,\n",
       " 0.6966720686582623,\n",
       " 0.6966720686582623,\n",
       " 0.6973239276395542,\n",
       " 0.7014053702346572,\n",
       " 0.7053247300395854,\n",
       " 0.7063116219450215,\n",
       " 0.7074249913718184,\n",
       " 0.7099655223841628,\n",
       " 0.7102073919530996,\n",
       " 0.7224247555245235,\n",
       " 0.7252036607853267,\n",
       " 0.7271482092056051,\n",
       " 0.7275820579279983,\n",
       " 0.7278034967408804,\n",
       " 0.7296624925059843,\n",
       " 0.7569101738874987,\n",
       " 0.7649996763503587,\n",
       " 0.7649996763503587,\n",
       " 0.7728472536126089,\n",
       " 0.7729484785730637,\n",
       " 0.7751593286643079,\n",
       " 0.7890456021674235,\n",
       " 0.7934077898654049,\n",
       " 0.7996732410781446,\n",
       " 0.8002570482095697,\n",
       " 0.8059752277635128,\n",
       " 0.8073515508311433,\n",
       " 0.8087654324446213,\n",
       " 0.8107067290827547,\n",
       " 0.8121355657876866,\n",
       " 0.8160206667787323,\n",
       " 0.8173245644732807,\n",
       " 0.8173245644732807,\n",
       " 0.8189807972994444,\n",
       " 0.8280175548407452,\n",
       " 0.8295264652997483,\n",
       " 0.8295498794849515,\n",
       " 0.8297525901716726,\n",
       " 0.8307001922949814,\n",
       " 0.831201724056161,\n",
       " 0.8322190830135962,\n",
       " 0.8361940343405625,\n",
       " 0.8383585317410608,\n",
       " 0.8391817600045605,\n",
       " 0.840805137302481,\n",
       " 0.8445479069152334,\n",
       " 0.8459170425646284,\n",
       " 0.8463087395996222,\n",
       " 0.8506172920042897,\n",
       " 0.8511140646466084,\n",
       " 0.8516002775193923,\n",
       " 0.8599212420946837,\n",
       " 0.8642594890932289,\n",
       " 0.8669095670005991,\n",
       " 0.8858813622298827,\n",
       " 0.88617373162023,\n",
       " 0.886610736022971,\n",
       " 0.8903565603828048,\n",
       " 0.8934936334128661,\n",
       " 0.8946752237458994,\n",
       " 0.9019583226595868,\n",
       " 0.9020037399692298,\n",
       " 0.9043009317914437,\n",
       " 0.9043554223787569,\n",
       " 0.9045206798197316,\n",
       " 0.9058699509369583,\n",
       " 0.9077757425750193,\n",
       " 0.9097450529245126,\n",
       " 0.9101573648053505,\n",
       " 0.9131949282757297,\n",
       " 0.9189782304846699,\n",
       " 0.9218293619781033,\n",
       " 0.9225842548231487,\n",
       " 0.9228167133184257,\n",
       " 0.9237311650284858,\n",
       " 0.9243771905457852,\n",
       " 0.928031910878811,\n",
       " 0.9307377666054264,\n",
       " 0.93390274522585,\n",
       " 0.9367458982415724,\n",
       " 0.9393967879467383,\n",
       " 0.9397618667842143,\n",
       " 0.9408931200140835,\n",
       " 0.9410521465163749,\n",
       " 0.9415338568839988,\n",
       " 0.9420952752191976,\n",
       " 0.9453375856896211,\n",
       " 0.9473328738120145,\n",
       " 0.9501550755730342,\n",
       " 0.9534463682675958,\n",
       " 0.9537760629541998,\n",
       " 0.9537844773807305,\n",
       " 0.9612873216519553,\n",
       " 0.962337656277034,\n",
       " 0.9683151625244736,\n",
       " 0.9769711678751702]"
      ]
     },
     "execution_count": 172,
     "metadata": {},
     "output_type": "execute_result"
    }
   ],
   "source": [
    "sorted(y_pred_proba)"
   ]
  },
  {
   "cell_type": "code",
   "execution_count": 174,
   "id": "5d35d9a9-9122-4f6f-a6f8-f857524ca500",
   "metadata": {},
   "outputs": [
    {
     "data": {
      "text/plain": [
       "<Axes: >"
      ]
     },
     "execution_count": 174,
     "metadata": {},
     "output_type": "execute_result"
    },
    {
     "data": {
      "image/png": "[encoded data removed]",
      "text/plain": [
       "<Figure size 640x480 with 1 Axes>"
      ]
     },
     "metadata": {},
     "output_type": "display_data"
    }
   ],
   "source": [
    "sns.scatterplot(x = range(len(sorted(y_pred_proba))), y = sorted(y_pred_proba))"
   ]
  },
  {
   "cell_type": "code",
   "execution_count": null,
   "id": "950b0727-6974-4e14-bda4-18612c3f02a8",
   "metadata": {},
   "outputs": [],
   "source": []
  }
 ],
 "metadata": {
  "kernelspec": {
   "display_name": "Python 3 (ipykernel)",
   "language": "python",
   "name": "python3"
  },
  "language_info": {
   "codemirror_mode": {
    "name": "ipython",
    "version": 3
   },
   "file_extension": ".py",
   "mimetype": "text/x-python",
   "name": "python",
   "nbconvert_exporter": "python",
   "pygments_lexer": "ipython3",
   "version": "3.11.8"
  }
 },
 "nbformat": 4,
 "nbformat_minor": 5
}
